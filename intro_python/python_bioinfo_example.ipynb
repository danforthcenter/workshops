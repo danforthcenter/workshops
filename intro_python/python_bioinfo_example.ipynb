{
 "cells": [
  {
   "cell_type": "code",
   "execution_count": null,
   "id": "1b4eb7f6-74ab-4d1c-981f-55255718d870",
   "metadata": {},
   "outputs": [],
   "source": [
    "import skbio"
   ]
  },
  {
   "cell_type": "code",
   "execution_count": null,
   "id": "2adbaef4-648f-489f-ba98-fdb3cb610068",
   "metadata": {},
   "outputs": [],
   "source": [
    "# Read a DNA sequence from a FASTA file\n"
   ]
  },
  {
   "cell_type": "code",
   "execution_count": null,
   "id": "e8118588-c339-4977-b8f7-59ff56e7988a",
   "metadata": {},
   "outputs": [],
   "source": [
    "# Print the sequence record\n"
   ]
  },
  {
   "cell_type": "code",
   "execution_count": null,
   "id": "d56ace39-1e20-4559-a173-21385b6083f2",
   "metadata": {},
   "outputs": [],
   "source": [
    "# Create a dictionary of kmer (k = 5) counts\n"
   ]
  },
  {
   "cell_type": "code",
   "execution_count": null,
   "id": "6621850a-6e66-4d1a-9c21-b681ba39f9f2",
   "metadata": {},
   "outputs": [],
   "source": [
    "# How many unique kmers?\n"
   ]
  },
  {
   "cell_type": "code",
   "execution_count": null,
   "id": "db21905a-a9e6-48aa-a317-f9724ce22723",
   "metadata": {},
   "outputs": [],
   "source": [
    "# How many total kmers?\n"
   ]
  },
  {
   "cell_type": "code",
   "execution_count": null,
   "id": "ccc14f6e-033d-40ab-98e5-0398e2eadf6a",
   "metadata": {},
   "outputs": [],
   "source": []
  }
 ],
 "metadata": {
  "kernelspec": {
   "display_name": "Python [conda env:datasci] *",
   "language": "python",
   "name": "conda-env-datasci-py"
  },
  "language_info": {
   "codemirror_mode": {
    "name": "ipython",
    "version": 3
   },
   "file_extension": ".py",
   "mimetype": "text/x-python",
   "name": "python",
   "nbconvert_exporter": "python",
   "pygments_lexer": "ipython3",
   "version": "3.8.12"
  }
 },
 "nbformat": 4,
 "nbformat_minor": 5
}
