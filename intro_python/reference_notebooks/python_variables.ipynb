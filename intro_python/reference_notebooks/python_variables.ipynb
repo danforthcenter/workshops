{
 "cells": [
  {
   "cell_type": "markdown",
   "id": "54e8a687-31da-4526-954c-76c0910ef226",
   "metadata": {},
   "source": [
    "# Arithmetic "
   ]
  },
  {
   "cell_type": "code",
   "execution_count": 3,
   "id": "facf08de-0ea3-4758-ab9f-6e7e60922398",
   "metadata": {},
   "outputs": [
    {
     "data": {
      "text/plain": [
       "2"
      ]
     },
     "execution_count": 3,
     "metadata": {},
     "output_type": "execute_result"
    }
   ],
   "source": [
    "# Add\n",
    "1 + 1"
   ]
  },
  {
   "cell_type": "code",
   "execution_count": 4,
   "id": "3c83c280-33cd-4ee1-b0b7-c97e19c3d199",
   "metadata": {},
   "outputs": [
    {
     "data": {
      "text/plain": [
       "1"
      ]
     },
     "execution_count": 4,
     "metadata": {},
     "output_type": "execute_result"
    }
   ],
   "source": [
    "# Subtract\n",
    "2 - 1"
   ]
  },
  {
   "cell_type": "code",
   "execution_count": 5,
   "id": "6d621fa8-46e8-4cff-958d-b63d90c1c944",
   "metadata": {},
   "outputs": [
    {
     "data": {
      "text/plain": [
       "4"
      ]
     },
     "execution_count": 5,
     "metadata": {},
     "output_type": "execute_result"
    }
   ],
   "source": [
    "# Multiply\n",
    "2 * 2"
   ]
  },
  {
   "cell_type": "code",
   "execution_count": 6,
   "id": "94a3d6e3-e6cb-4ec4-9800-073c8aefdedc",
   "metadata": {},
   "outputs": [
    {
     "data": {
      "text/plain": [
       "0.5"
      ]
     },
     "execution_count": 6,
     "metadata": {},
     "output_type": "execute_result"
    }
   ],
   "source": [
    "# Divide\n",
    "1 / 2"
   ]
  },
  {
   "cell_type": "code",
   "execution_count": 7,
   "id": "8bc0ff72-938d-4526-9aae-af046f9657fd",
   "metadata": {},
   "outputs": [
    {
     "data": {
      "text/plain": [
       "1"
      ]
     },
     "execution_count": 7,
     "metadata": {},
     "output_type": "execute_result"
    }
   ],
   "source": [
    "# Modulo\n",
    "3 % 2"
   ]
  },
  {
   "cell_type": "code",
   "execution_count": 9,
   "id": "28ce3f1b-6021-4eda-8153-a0550abbde32",
   "metadata": {},
   "outputs": [
    {
     "data": {
      "text/plain": [
       "16"
      ]
     },
     "execution_count": 9,
     "metadata": {},
     "output_type": "execute_result"
    }
   ],
   "source": [
    "# Exponent\n",
    "2**4"
   ]
  },
  {
   "cell_type": "markdown",
   "id": "74615ddd-befb-4038-b6a9-4fa9fb1b63c4",
   "metadata": {},
   "source": [
    "# Comparisons"
   ]
  },
  {
   "cell_type": "code",
   "execution_count": 13,
   "id": "6dc081b0-7ab5-422f-90ec-a90ffd05f541",
   "metadata": {},
   "outputs": [
    {
     "data": {
      "text/plain": [
       "True"
      ]
     },
     "execution_count": 13,
     "metadata": {},
     "output_type": "execute_result"
    }
   ],
   "source": [
    "# Equal\n",
    "1 == 1"
   ]
  },
  {
   "cell_type": "code",
   "execution_count": 14,
   "id": "4ddd6a29-9171-456b-b3f8-86ea39e7b92d",
   "metadata": {},
   "outputs": [
    {
     "data": {
      "text/plain": [
       "True"
      ]
     },
     "execution_count": 14,
     "metadata": {},
     "output_type": "execute_result"
    }
   ],
   "source": [
    "# Not equal\n",
    "1 != 2"
   ]
  },
  {
   "cell_type": "code",
   "execution_count": 15,
   "id": "48bcf059-fcef-45a1-89b6-5ab0c4476fb9",
   "metadata": {},
   "outputs": [
    {
     "data": {
      "text/plain": [
       "False"
      ]
     },
     "execution_count": 15,
     "metadata": {},
     "output_type": "execute_result"
    }
   ],
   "source": [
    "# Greater than\n",
    "1 > 2"
   ]
  },
  {
   "cell_type": "code",
   "execution_count": 16,
   "id": "2919a3ed-353f-4d25-b353-bb7033d07013",
   "metadata": {},
   "outputs": [
    {
     "data": {
      "text/plain": [
       "True"
      ]
     },
     "execution_count": 16,
     "metadata": {},
     "output_type": "execute_result"
    }
   ],
   "source": [
    "# Less than\n",
    "1 < 2"
   ]
  },
  {
   "cell_type": "code",
   "execution_count": 17,
   "id": "e253b42b-42d1-41b8-8f86-f1f66aa75628",
   "metadata": {},
   "outputs": [
    {
     "data": {
      "text/plain": [
       "True"
      ]
     },
     "execution_count": 17,
     "metadata": {},
     "output_type": "execute_result"
    }
   ],
   "source": [
    "# Greater than or equal to\n",
    "1 >= 0"
   ]
  },
  {
   "cell_type": "code",
   "execution_count": 18,
   "id": "c0f84aa9-6de1-4f05-a7e8-b84f6efb58b3",
   "metadata": {},
   "outputs": [
    {
     "data": {
      "text/plain": [
       "False"
      ]
     },
     "execution_count": 18,
     "metadata": {},
     "output_type": "execute_result"
    }
   ],
   "source": [
    "# Less than or equal to\n",
    "1 <= 0"
   ]
  },
  {
   "cell_type": "markdown",
   "id": "fec2b84b-f14a-4bbf-aeee-9600950a4094",
   "metadata": {},
   "source": [
    "# Logical"
   ]
  },
  {
   "cell_type": "code",
   "execution_count": 19,
   "id": "a9870d1c-f2a4-4336-8995-a9308272677b",
   "metadata": {},
   "outputs": [
    {
     "data": {
      "text/plain": [
       "True"
      ]
     },
     "execution_count": 19,
     "metadata": {},
     "output_type": "execute_result"
    }
   ],
   "source": [
    "# And\n",
    "1 < 2 and 2 > 0"
   ]
  },
  {
   "cell_type": "code",
   "execution_count": 20,
   "id": "15c71eba-3253-4afb-bb30-1a7c0ba78106",
   "metadata": {},
   "outputs": [
    {
     "data": {
      "text/plain": [
       "True"
      ]
     },
     "execution_count": 20,
     "metadata": {},
     "output_type": "execute_result"
    }
   ],
   "source": [
    "# Or\n",
    "1 < 2 or 2 < 1"
   ]
  },
  {
   "cell_type": "code",
   "execution_count": 21,
   "id": "d288af0e-7008-4fe3-a6e0-24f427bdc9d0",
   "metadata": {},
   "outputs": [
    {
     "data": {
      "text/plain": [
       "False"
      ]
     },
     "execution_count": 21,
     "metadata": {},
     "output_type": "execute_result"
    }
   ],
   "source": [
    "# Not\n",
    "not(1 < 2 and 2 > 0)"
   ]
  },
  {
   "cell_type": "markdown",
   "id": "16e3475f-07e6-4fc0-b815-922049a2c691",
   "metadata": {},
   "source": [
    "# Variables"
   ]
  },
  {
   "cell_type": "markdown",
   "id": "f7373bdc-9ba9-461f-a7e5-a03e8b770330",
   "metadata": {},
   "source": [
    "## Variables: integers"
   ]
  },
  {
   "cell_type": "code",
   "execution_count": 23,
   "id": "f7128bcc-fdd9-475a-9288-00642d18f1aa",
   "metadata": {},
   "outputs": [
    {
     "name": "stdout",
     "output_type": "stream",
     "text": [
      "1\n"
     ]
    }
   ],
   "source": [
    "# Integer\n",
    "x = 1\n",
    "print(x)"
   ]
  },
  {
   "cell_type": "code",
   "execution_count": 27,
   "id": "c947d0d7-c5d4-42af-8532-ac55f2cd5130",
   "metadata": {},
   "outputs": [
    {
     "data": {
      "text/plain": [
       "int"
      ]
     },
     "execution_count": 27,
     "metadata": {},
     "output_type": "execute_result"
    }
   ],
   "source": [
    "# Type of x\n",
    "type(x)"
   ]
  },
  {
   "cell_type": "code",
   "execution_count": 24,
   "id": "89992f84-32f0-4d8b-b910-b4bf4bdbc03b",
   "metadata": {},
   "outputs": [
    {
     "data": {
      "text/plain": [
       "2"
      ]
     },
     "execution_count": 24,
     "metadata": {},
     "output_type": "execute_result"
    }
   ],
   "source": [
    "# Add one to x\n",
    "x + 1"
   ]
  },
  {
   "cell_type": "code",
   "execution_count": 25,
   "id": "125938da-bce3-48fd-a591-fc5105333d28",
   "metadata": {},
   "outputs": [
    {
     "name": "stdout",
     "output_type": "stream",
     "text": [
      "1\n"
     ]
    }
   ],
   "source": [
    "# What is the value of x?\n",
    "print(x)"
   ]
  },
  {
   "cell_type": "code",
   "execution_count": 26,
   "id": "49733a98-8f28-4b10-a16c-ee3c2d7c128d",
   "metadata": {},
   "outputs": [
    {
     "name": "stdout",
     "output_type": "stream",
     "text": [
      "2\n"
     ]
    }
   ],
   "source": [
    "# Add one to x\n",
    "x += 1\n",
    "print(x)"
   ]
  },
  {
   "cell_type": "markdown",
   "id": "bc701cb1-f1e9-4c8d-98af-6b366f232f93",
   "metadata": {},
   "source": [
    "## Variables: floating point"
   ]
  },
  {
   "cell_type": "code",
   "execution_count": 28,
   "id": "8e282745-2369-4ab3-9fea-ceebb9a6924a",
   "metadata": {},
   "outputs": [
    {
     "name": "stdout",
     "output_type": "stream",
     "text": [
      "0.5\n"
     ]
    }
   ],
   "source": [
    "# Divide x by 4\n",
    "x /= 4\n",
    "print(x)"
   ]
  },
  {
   "cell_type": "code",
   "execution_count": 29,
   "id": "1eceeb30-a06f-4188-befd-84bdaafb00b8",
   "metadata": {},
   "outputs": [
    {
     "data": {
      "text/plain": [
       "float"
      ]
     },
     "execution_count": 29,
     "metadata": {},
     "output_type": "execute_result"
    }
   ],
   "source": [
    "# Type of x\n",
    "type(x)"
   ]
  },
  {
   "cell_type": "markdown",
   "id": "eff43c04-f0e8-4a7d-93bf-8bec83012185",
   "metadata": {},
   "source": [
    "## Variables: strings"
   ]
  },
  {
   "cell_type": "code",
   "execution_count": 32,
   "id": "1cd99873-7f64-43b0-b6ed-3768ab478489",
   "metadata": {},
   "outputs": [
    {
     "name": "stdout",
     "output_type": "stream",
     "text": [
      "hello\n"
     ]
    }
   ],
   "source": [
    "# String\n",
    "word = \"hello\"\n",
    "print(word)"
   ]
  },
  {
   "cell_type": "code",
   "execution_count": 33,
   "id": "0657437e-b8a2-4bdc-b98d-ac8780c3f8f5",
   "metadata": {},
   "outputs": [
    {
     "data": {
      "text/plain": [
       "str"
      ]
     },
     "execution_count": 33,
     "metadata": {},
     "output_type": "execute_result"
    }
   ],
   "source": [
    "# Type of word\n",
    "type(word)"
   ]
  },
  {
   "cell_type": "code",
   "execution_count": 34,
   "id": "b83a7037-939d-4e98-9989-9998884a5c3f",
   "metadata": {},
   "outputs": [
    {
     "name": "stdout",
     "output_type": "stream",
     "text": [
      "hello world\n"
     ]
    }
   ],
   "source": [
    "# Create a phrase\n",
    "print(word + \" world\")"
   ]
  },
  {
   "cell_type": "code",
   "execution_count": 50,
   "id": "0cf3c5f3-1cee-48b0-89fe-3aa43268d6d3",
   "metadata": {},
   "outputs": [
    {
     "data": {
      "text/plain": [
       "5"
      ]
     },
     "execution_count": 50,
     "metadata": {},
     "output_type": "execute_result"
    }
   ],
   "source": [
    "# Length of word\n",
    "len(word)"
   ]
  },
  {
   "cell_type": "markdown",
   "id": "1bb71b15-1bce-476a-b974-e281d6386d99",
   "metadata": {},
   "source": [
    "## Variables: lists"
   ]
  },
  {
   "cell_type": "code",
   "execution_count": 37,
   "id": "31ad6c9e-93a9-400c-8b89-384e293fe65d",
   "metadata": {},
   "outputs": [],
   "source": [
    "# List\n",
    "items = [3, 2, 4, 1]"
   ]
  },
  {
   "cell_type": "code",
   "execution_count": 40,
   "id": "8161e67f-7e75-4b10-9a69-b158f3f81c48",
   "metadata": {},
   "outputs": [
    {
     "data": {
      "text/plain": [
       "list"
      ]
     },
     "execution_count": 40,
     "metadata": {},
     "output_type": "execute_result"
    }
   ],
   "source": [
    "# Type of items\n",
    "type(items)"
   ]
  },
  {
   "cell_type": "code",
   "execution_count": 38,
   "id": "54fab910-8533-4e0c-995c-53ee47f67cc8",
   "metadata": {},
   "outputs": [
    {
     "name": "stdout",
     "output_type": "stream",
     "text": [
      "[1, 2, 3, 4]\n"
     ]
    }
   ],
   "source": [
    "# Sort the list\n",
    "items.sort()\n",
    "print(items)"
   ]
  },
  {
   "cell_type": "code",
   "execution_count": 39,
   "id": "5d22bd1c-f686-4c33-a658-088f4f6c769e",
   "metadata": {},
   "outputs": [
    {
     "data": {
      "text/plain": [
       "1"
      ]
     },
     "execution_count": 39,
     "metadata": {},
     "output_type": "execute_result"
    }
   ],
   "source": [
    "# Get the first element in the list\n",
    "items[0]"
   ]
  },
  {
   "cell_type": "code",
   "execution_count": 41,
   "id": "65c557c7-1f24-499e-b19c-220d97a6add6",
   "metadata": {},
   "outputs": [
    {
     "data": {
      "text/plain": [
       "int"
      ]
     },
     "execution_count": 41,
     "metadata": {},
     "output_type": "execute_result"
    }
   ],
   "source": [
    "# Type of the first element\n",
    "type(items[0])"
   ]
  },
  {
   "cell_type": "code",
   "execution_count": 43,
   "id": "64e90e79-7bc7-460d-a60b-8739b5b47b02",
   "metadata": {},
   "outputs": [
    {
     "name": "stdout",
     "output_type": "stream",
     "text": [
      "[1, 2, 3, 4, 'x', 'x']\n"
     ]
    }
   ],
   "source": [
    "# Append an item to the list\n",
    "items.append(\"x\")\n",
    "print(items)"
   ]
  },
  {
   "cell_type": "code",
   "execution_count": 51,
   "id": "27f90761-3fb9-4feb-b2c6-65489ce2b049",
   "metadata": {},
   "outputs": [
    {
     "data": {
      "text/plain": [
       "4"
      ]
     },
     "execution_count": 51,
     "metadata": {},
     "output_type": "execute_result"
    }
   ],
   "source": [
    "# Length of items\n",
    "len(items)"
   ]
  },
  {
   "cell_type": "markdown",
   "id": "aeed5ad4-5c65-41a3-b975-ef33e135010f",
   "metadata": {},
   "source": [
    "## Variables: tuples"
   ]
  },
  {
   "cell_type": "code",
   "execution_count": 44,
   "id": "a6471b98-d489-48a4-8c4a-6eace8e8dcce",
   "metadata": {},
   "outputs": [],
   "source": [
    "# Tuple\n",
    "items = (3, 2, 4, 1)"
   ]
  },
  {
   "cell_type": "code",
   "execution_count": 45,
   "id": "8c15259a-4930-4f3f-a796-0c6faadadae0",
   "metadata": {},
   "outputs": [
    {
     "data": {
      "text/plain": [
       "tuple"
      ]
     },
     "execution_count": 45,
     "metadata": {},
     "output_type": "execute_result"
    }
   ],
   "source": [
    "# Type of items\n",
    "type(items)"
   ]
  },
  {
   "cell_type": "code",
   "execution_count": 46,
   "id": "fd982a3f-42f0-4d7d-b8f1-074092256de0",
   "metadata": {},
   "outputs": [
    {
     "data": {
      "text/plain": [
       "3"
      ]
     },
     "execution_count": 46,
     "metadata": {},
     "output_type": "execute_result"
    }
   ],
   "source": [
    "# Get the first element in the tuple\n",
    "items[0]"
   ]
  },
  {
   "cell_type": "code",
   "execution_count": 47,
   "id": "60e73cda-daf9-4dc1-81a7-ba50107bf319",
   "metadata": {},
   "outputs": [
    {
     "ename": "AttributeError",
     "evalue": "'tuple' object has no attribute 'append'",
     "output_type": "error",
     "traceback": [
      "\u001b[0;31m---------------------------------------------------------------------------\u001b[0m",
      "\u001b[0;31mAttributeError\u001b[0m                            Traceback (most recent call last)",
      "\u001b[0;32m/var/folders/w8/r9_f9vbx64x2_6pgqn8mdm9r0000gn/T/ipykernel_31856/211799794.py\u001b[0m in \u001b[0;36m<module>\u001b[0;34m\u001b[0m\n\u001b[1;32m      1\u001b[0m \u001b[0;31m# Append an item to the list\u001b[0m\u001b[0;34m\u001b[0m\u001b[0;34m\u001b[0m\u001b[0m\n\u001b[0;32m----> 2\u001b[0;31m \u001b[0mitems\u001b[0m\u001b[0;34m.\u001b[0m\u001b[0mappend\u001b[0m\u001b[0;34m(\u001b[0m\u001b[0;34m\"x\"\u001b[0m\u001b[0;34m)\u001b[0m\u001b[0;34m\u001b[0m\u001b[0;34m\u001b[0m\u001b[0m\n\u001b[0m",
      "\u001b[0;31mAttributeError\u001b[0m: 'tuple' object has no attribute 'append'"
     ]
    }
   ],
   "source": [
    "# Append an item to the list\n",
    "items.append(\"x\")"
   ]
  },
  {
   "cell_type": "markdown",
   "id": "8587b968-b857-42be-bf27-862879a0223e",
   "metadata": {},
   "source": [
    "## Variables: sets"
   ]
  },
  {
   "cell_type": "code",
   "execution_count": 52,
   "id": "8e0e0bba-53a0-4147-9ba5-7ca51fc2d8ec",
   "metadata": {},
   "outputs": [],
   "source": [
    "# Set\n",
    "set1 = {\"apple\", \"banana\", \"orange\"}\n",
    "set2 = {\"red\", \"orange\", \"yellow\", \"blue\"}"
   ]
  },
  {
   "cell_type": "code",
   "execution_count": 53,
   "id": "24d4b0f7-40a5-4322-944b-351214a6eb4d",
   "metadata": {},
   "outputs": [
    {
     "data": {
      "text/plain": [
       "set"
      ]
     },
     "execution_count": 53,
     "metadata": {},
     "output_type": "execute_result"
    }
   ],
   "source": [
    "# Type of set1\n",
    "type(set1)"
   ]
  },
  {
   "cell_type": "code",
   "execution_count": 54,
   "id": "5e39dd1b-f681-43d0-b874-a0bd4209db90",
   "metadata": {},
   "outputs": [
    {
     "data": {
      "text/plain": [
       "True"
      ]
     },
     "execution_count": 54,
     "metadata": {},
     "output_type": "execute_result"
    }
   ],
   "source": [
    "# Check for item in set\n",
    "\"apple\" in set1"
   ]
  },
  {
   "cell_type": "code",
   "execution_count": 55,
   "id": "91a19680-1351-4810-82cd-8cdae82aea73",
   "metadata": {},
   "outputs": [
    {
     "data": {
      "text/plain": [
       "{'apple', 'banana', 'blue', 'orange', 'red', 'yellow'}"
      ]
     },
     "execution_count": 55,
     "metadata": {},
     "output_type": "execute_result"
    }
   ],
   "source": [
    "# Get the union of two sets\n",
    "set1 | set2"
   ]
  },
  {
   "cell_type": "code",
   "execution_count": 56,
   "id": "8adc1ca7-c1d4-4c6b-8b33-eacf170affdf",
   "metadata": {},
   "outputs": [
    {
     "data": {
      "text/plain": [
       "{'orange'}"
      ]
     },
     "execution_count": 56,
     "metadata": {},
     "output_type": "execute_result"
    }
   ],
   "source": [
    "# Get the intersection of two sets\n",
    "set1 & set2"
   ]
  },
  {
   "cell_type": "markdown",
   "id": "12a312df-910b-4508-8488-21a9f1c11d2a",
   "metadata": {},
   "source": [
    "## Variables: dictionaries"
   ]
  },
  {
   "cell_type": "code",
   "execution_count": 5,
   "id": "eaf18164-e8ed-4225-a9f1-e355724a08da",
   "metadata": {},
   "outputs": [],
   "source": [
    "# Dictionary\n",
    "orgs = {\"Arabidopsis\": \"thaliana\", \"Sorghum\": \"bicolor\", \"Zea\": \"mays\"}"
   ]
  },
  {
   "cell_type": "code",
   "execution_count": 6,
   "id": "bbeebc1f-2901-492b-a81c-d6cd0e880d0f",
   "metadata": {},
   "outputs": [
    {
     "data": {
      "text/plain": [
       "dict"
      ]
     },
     "execution_count": 6,
     "metadata": {},
     "output_type": "execute_result"
    }
   ],
   "source": [
    "# Type of species\n",
    "type(orgs)"
   ]
  },
  {
   "cell_type": "code",
   "execution_count": 7,
   "id": "c195da99-11b0-43fe-ab8d-a728343ea9a3",
   "metadata": {},
   "outputs": [
    {
     "data": {
      "text/plain": [
       "'mays'"
      ]
     },
     "execution_count": 7,
     "metadata": {},
     "output_type": "execute_result"
    }
   ],
   "source": [
    "# Look up the species in the genus Zea\n",
    "orgs[\"Zea\"]"
   ]
  },
  {
   "cell_type": "code",
   "execution_count": 8,
   "id": "91b5ee13-baee-4f90-a8d2-870490a54894",
   "metadata": {},
   "outputs": [
    {
     "name": "stdout",
     "output_type": "stream",
     "text": [
      "{'Arabidopsis': 'thaliana', 'Sorghum': 'bicolor', 'Zea': 'mays', 'Oryza': 'sativa'}\n"
     ]
    }
   ],
   "source": [
    "# If the genus Oryza is not in species, add it\n",
    "if \"Oryza\" not in orgs:\n",
    "    orgs[\"Oryza\"] = \"sativa\"\n",
    "print(orgs)"
   ]
  },
  {
   "cell_type": "markdown",
   "id": "bdf39e06-8ce5-46dc-80a1-55eab9c47d44",
   "metadata": {},
   "source": [
    "# Iteration"
   ]
  },
  {
   "cell_type": "code",
   "execution_count": 1,
   "id": "e9e4840b-7be9-4e58-ba0c-ee4ca26410f2",
   "metadata": {},
   "outputs": [],
   "source": [
    "# List\n",
    "items = [3, 2, 4, 1]"
   ]
  },
  {
   "cell_type": "code",
   "execution_count": 2,
   "id": "922a5ca3-d53f-442a-8997-9f4d4785075f",
   "metadata": {},
   "outputs": [
    {
     "name": "stdout",
     "output_type": "stream",
     "text": [
      "3\n",
      "2\n",
      "4\n",
      "1\n"
     ]
    }
   ],
   "source": [
    "# Print each element of items\n",
    "for item in items:\n",
    "    print(item)"
   ]
  },
  {
   "cell_type": "code",
   "execution_count": 3,
   "id": "0184aeb2-a398-450e-a90e-81db92710cc2",
   "metadata": {},
   "outputs": [
    {
     "name": "stdout",
     "output_type": "stream",
     "text": [
      "0\n",
      "1\n",
      "2\n",
      "3\n",
      "4\n",
      "5\n",
      "6\n",
      "7\n",
      "8\n",
      "9\n"
     ]
    }
   ],
   "source": [
    "# Generate a counter\n",
    "for i in range(0, 10):\n",
    "    print(i)"
   ]
  },
  {
   "cell_type": "code",
   "execution_count": 9,
   "id": "6e714f89-dc20-46c7-9ba9-4157851b02d4",
   "metadata": {},
   "outputs": [
    {
     "name": "stdout",
     "output_type": "stream",
     "text": [
      "Genus: Arabidopsis, Species: thaliana\n",
      "Genus: Sorghum, Species: bicolor\n",
      "Genus: Zea, Species: mays\n",
      "Genus: Oryza, Species: sativa\n"
     ]
    }
   ],
   "source": [
    "# Print each key:value pair from the dictionary orgs\n",
    "for genus, species in orgs.items():\n",
    "    print(f\"Genus: {genus}, Species: {species}\")"
   ]
  },
  {
   "cell_type": "code",
   "execution_count": null,
   "id": "670d1c99-713f-4ca3-acda-0da6bd849b75",
   "metadata": {},
   "outputs": [],
   "source": []
  }
 ],
 "metadata": {
  "kernelspec": {
   "display_name": "Python [conda env:datasci] *",
   "language": "python",
   "name": "conda-env-datasci-py"
  },
  "language_info": {
   "codemirror_mode": {
    "name": "ipython",
    "version": 3
   },
   "file_extension": ".py",
   "mimetype": "text/x-python",
   "name": "python",
   "nbconvert_exporter": "python",
   "pygments_lexer": "ipython3",
   "version": "3.8.12"
  }
 },
 "nbformat": 4,
 "nbformat_minor": 5
}
