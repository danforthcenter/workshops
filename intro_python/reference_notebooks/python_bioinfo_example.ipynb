{
 "cells": [
  {
   "cell_type": "code",
   "execution_count": 34,
   "id": "1b4eb7f6-74ab-4d1c-981f-55255718d870",
   "metadata": {},
   "outputs": [],
   "source": [
    "import skbio"
   ]
  },
  {
   "cell_type": "code",
   "execution_count": 35,
   "id": "2adbaef4-648f-489f-ba98-fdb3cb610068",
   "metadata": {},
   "outputs": [],
   "source": [
    "# Read a DNA sequence from a FASTA file\n",
    "seq = skbio.io.read(file=\"AT5G63960.fasta\", format=\"fasta\", into=skbio.DNA)"
   ]
  },
  {
   "cell_type": "code",
   "execution_count": 36,
   "id": "e8118588-c339-4977-b8f7-59ff56e7988a",
   "metadata": {},
   "outputs": [
    {
     "data": {
      "text/plain": [
       "DNA\n",
       "----------------------------------------------------------------------\n",
       "Metadata:\n",
       "    'description': ''\n",
       "    'id': 'AT5G63960'\n",
       "Stats:\n",
       "    length: 3518\n",
       "    has gaps: False\n",
       "    has degenerates: False\n",
       "    has definites: True\n",
       "    GC-content: 42.47%\n",
       "----------------------------------------------------------------------\n",
       "0    TAGTCTCACT TTCTACTTCT CTCAGACCTC CACGAGCTCA CAAAATCACA CACATTCTCT\n",
       "60   TCTTTTCCCG CTCACCCAAA GCCATGAATA GATCCGGTAT TTCCAAAAAG CGACCGCCTC\n",
       "...\n",
       "3420 AATAAGTATT TAAGGTTGTT TTTAGCTCTC TCTTTTTTCC ATTGGTATCG TTGCTGTTAC\n",
       "3480 ACTTTCCGCT TGATTTAGAA CTTGTAGGTC TCTTTGGA"
      ]
     },
     "execution_count": 36,
     "metadata": {},
     "output_type": "execute_result"
    }
   ],
   "source": [
    "# Print the sequence record\n",
    "seq"
   ]
  },
  {
   "cell_type": "code",
   "execution_count": 37,
   "id": "d56ace39-1e20-4559-a173-21385b6083f2",
   "metadata": {},
   "outputs": [],
   "source": [
    "# Create a dictionary of kmer (k = 5) counts\n",
    "kmers = {}\n",
    "for kmer in seq.iter_kmers(k=5, overlap=True):\n",
    "    # Convert the kmer to a str\n",
    "    kmer_str = str(kmer)\n",
    "    if kmer_str in kmers:\n",
    "        # If the kmer exists add one count\n",
    "        kmers[kmer_str] += 1\n",
    "    else:\n",
    "        # Load a new kmer into the database\n",
    "        kmers[kmer_str] = 1"
   ]
  },
  {
   "cell_type": "code",
   "execution_count": 38,
   "id": "6621850a-6e66-4d1a-9c21-b681ba39f9f2",
   "metadata": {},
   "outputs": [
    {
     "data": {
      "text/plain": [
       "923"
      ]
     },
     "execution_count": 38,
     "metadata": {},
     "output_type": "execute_result"
    }
   ],
   "source": [
    "# How many unique kmers?\n",
    "len(kmers)"
   ]
  },
  {
   "cell_type": "code",
   "execution_count": 39,
   "id": "db21905a-a9e6-48aa-a317-f9724ce22723",
   "metadata": {},
   "outputs": [
    {
     "name": "stdout",
     "output_type": "stream",
     "text": [
      "3514\n"
     ]
    }
   ],
   "source": [
    "# How many total kmers?\n",
    "total = 0\n",
    "for count in kmers.values():\n",
    "    total += count\n",
    "print(total)"
   ]
  },
  {
   "cell_type": "code",
   "execution_count": null,
   "id": "ccc14f6e-033d-40ab-98e5-0398e2eadf6a",
   "metadata": {},
   "outputs": [],
   "source": []
  }
 ],
 "metadata": {
  "kernelspec": {
   "display_name": "Python [conda env:datasci] *",
   "language": "python",
   "name": "conda-env-datasci-py"
  },
  "language_info": {
   "codemirror_mode": {
    "name": "ipython",
    "version": 3
   },
   "file_extension": ".py",
   "mimetype": "text/x-python",
   "name": "python",
   "nbconvert_exporter": "python",
   "pygments_lexer": "ipython3",
   "version": "3.8.12"
  }
 },
 "nbformat": 4,
 "nbformat_minor": 5
}
