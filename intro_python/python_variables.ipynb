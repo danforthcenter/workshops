{
 "cells": [
  {
   "cell_type": "markdown",
   "id": "54e8a687-31da-4526-954c-76c0910ef226",
   "metadata": {},
   "source": [
    "# Arithmetic "
   ]
  },
  {
   "cell_type": "code",
   "execution_count": null,
   "id": "facf08de-0ea3-4758-ab9f-6e7e60922398",
   "metadata": {},
   "outputs": [],
   "source": [
    "# Add\n"
   ]
  },
  {
   "cell_type": "code",
   "execution_count": null,
   "id": "3c83c280-33cd-4ee1-b0b7-c97e19c3d199",
   "metadata": {},
   "outputs": [],
   "source": [
    "# Subtract\n"
   ]
  },
  {
   "cell_type": "code",
   "execution_count": null,
   "id": "6d621fa8-46e8-4cff-958d-b63d90c1c944",
   "metadata": {},
   "outputs": [],
   "source": [
    "# Multiply\n"
   ]
  },
  {
   "cell_type": "code",
   "execution_count": null,
   "id": "94a3d6e3-e6cb-4ec4-9800-073c8aefdedc",
   "metadata": {},
   "outputs": [],
   "source": [
    "# Divide\n"
   ]
  },
  {
   "cell_type": "code",
   "execution_count": null,
   "id": "8bc0ff72-938d-4526-9aae-af046f9657fd",
   "metadata": {},
   "outputs": [],
   "source": [
    "# Modulo\n"
   ]
  },
  {
   "cell_type": "code",
   "execution_count": null,
   "id": "28ce3f1b-6021-4eda-8153-a0550abbde32",
   "metadata": {},
   "outputs": [],
   "source": [
    "# Exponent\n"
   ]
  },
  {
   "cell_type": "markdown",
   "id": "74615ddd-befb-4038-b6a9-4fa9fb1b63c4",
   "metadata": {},
   "source": [
    "# Comparisons"
   ]
  },
  {
   "cell_type": "code",
   "execution_count": null,
   "id": "6dc081b0-7ab5-422f-90ec-a90ffd05f541",
   "metadata": {},
   "outputs": [],
   "source": [
    "# Equal\n"
   ]
  },
  {
   "cell_type": "code",
   "execution_count": null,
   "id": "4ddd6a29-9171-456b-b3f8-86ea39e7b92d",
   "metadata": {},
   "outputs": [],
   "source": [
    "# Not equal\n"
   ]
  },
  {
   "cell_type": "code",
   "execution_count": null,
   "id": "48bcf059-fcef-45a1-89b6-5ab0c4476fb9",
   "metadata": {},
   "outputs": [],
   "source": [
    "# Greater than\n"
   ]
  },
  {
   "cell_type": "code",
   "execution_count": null,
   "id": "2919a3ed-353f-4d25-b353-bb7033d07013",
   "metadata": {},
   "outputs": [],
   "source": [
    "# Less than\n"
   ]
  },
  {
   "cell_type": "code",
   "execution_count": null,
   "id": "e253b42b-42d1-41b8-8f86-f1f66aa75628",
   "metadata": {},
   "outputs": [],
   "source": [
    "# Greater than or equal to\n"
   ]
  },
  {
   "cell_type": "code",
   "execution_count": null,
   "id": "c0f84aa9-6de1-4f05-a7e8-b84f6efb58b3",
   "metadata": {},
   "outputs": [],
   "source": [
    "# Less than or equal to\n"
   ]
  },
  {
   "cell_type": "markdown",
   "id": "fec2b84b-f14a-4bbf-aeee-9600950a4094",
   "metadata": {},
   "source": [
    "# Logical"
   ]
  },
  {
   "cell_type": "code",
   "execution_count": null,
   "id": "a9870d1c-f2a4-4336-8995-a9308272677b",
   "metadata": {},
   "outputs": [],
   "source": [
    "# And\n"
   ]
  },
  {
   "cell_type": "code",
   "execution_count": null,
   "id": "15c71eba-3253-4afb-bb30-1a7c0ba78106",
   "metadata": {},
   "outputs": [],
   "source": [
    "# Or\n"
   ]
  },
  {
   "cell_type": "code",
   "execution_count": null,
   "id": "d288af0e-7008-4fe3-a6e0-24f427bdc9d0",
   "metadata": {},
   "outputs": [],
   "source": [
    "# Not\n"
   ]
  },
  {
   "cell_type": "markdown",
   "id": "16e3475f-07e6-4fc0-b815-922049a2c691",
   "metadata": {},
   "source": [
    "# Variables"
   ]
  },
  {
   "cell_type": "markdown",
   "id": "f7373bdc-9ba9-461f-a7e5-a03e8b770330",
   "metadata": {},
   "source": [
    "## Variables: integers"
   ]
  },
  {
   "cell_type": "code",
   "execution_count": null,
   "id": "f7128bcc-fdd9-475a-9288-00642d18f1aa",
   "metadata": {},
   "outputs": [],
   "source": [
    "# Integer\n"
   ]
  },
  {
   "cell_type": "code",
   "execution_count": null,
   "id": "c947d0d7-c5d4-42af-8532-ac55f2cd5130",
   "metadata": {},
   "outputs": [],
   "source": [
    "# Type of x\n"
   ]
  },
  {
   "cell_type": "code",
   "execution_count": null,
   "id": "89992f84-32f0-4d8b-b910-b4bf4bdbc03b",
   "metadata": {},
   "outputs": [],
   "source": [
    "# Add one to x\n"
   ]
  },
  {
   "cell_type": "code",
   "execution_count": null,
   "id": "125938da-bce3-48fd-a591-fc5105333d28",
   "metadata": {},
   "outputs": [],
   "source": [
    "# What is the value of x?\n"
   ]
  },
  {
   "cell_type": "code",
   "execution_count": null,
   "id": "49733a98-8f28-4b10-a16c-ee3c2d7c128d",
   "metadata": {},
   "outputs": [],
   "source": [
    "# Add one to x\n"
   ]
  },
  {
   "cell_type": "markdown",
   "id": "bc701cb1-f1e9-4c8d-98af-6b366f232f93",
   "metadata": {},
   "source": [
    "## Variables: floating point"
   ]
  },
  {
   "cell_type": "code",
   "execution_count": null,
   "id": "8e282745-2369-4ab3-9fea-ceebb9a6924a",
   "metadata": {},
   "outputs": [],
   "source": [
    "# Divide x by 4\n"
   ]
  },
  {
   "cell_type": "code",
   "execution_count": null,
   "id": "1eceeb30-a06f-4188-befd-84bdaafb00b8",
   "metadata": {},
   "outputs": [],
   "source": [
    "# Type of x\n"
   ]
  },
  {
   "cell_type": "markdown",
   "id": "eff43c04-f0e8-4a7d-93bf-8bec83012185",
   "metadata": {},
   "source": [
    "## Variables: strings"
   ]
  },
  {
   "cell_type": "code",
   "execution_count": null,
   "id": "1cd99873-7f64-43b0-b6ed-3768ab478489",
   "metadata": {},
   "outputs": [],
   "source": [
    "# String\n"
   ]
  },
  {
   "cell_type": "code",
   "execution_count": null,
   "id": "0657437e-b8a2-4bdc-b98d-ac8780c3f8f5",
   "metadata": {},
   "outputs": [],
   "source": [
    "# Type of word\n"
   ]
  },
  {
   "cell_type": "code",
   "execution_count": null,
   "id": "b83a7037-939d-4e98-9989-9998884a5c3f",
   "metadata": {},
   "outputs": [],
   "source": [
    "# Create a phrase\n"
   ]
  },
  {
   "cell_type": "code",
   "execution_count": null,
   "id": "0cf3c5f3-1cee-48b0-89fe-3aa43268d6d3",
   "metadata": {},
   "outputs": [],
   "source": [
    "# Length of word\n"
   ]
  },
  {
   "cell_type": "markdown",
   "id": "1bb71b15-1bce-476a-b974-e281d6386d99",
   "metadata": {},
   "source": [
    "## Variables: lists"
   ]
  },
  {
   "cell_type": "code",
   "execution_count": null,
   "id": "31ad6c9e-93a9-400c-8b89-384e293fe65d",
   "metadata": {},
   "outputs": [],
   "source": [
    "# List\n"
   ]
  },
  {
   "cell_type": "code",
   "execution_count": null,
   "id": "8161e67f-7e75-4b10-9a69-b158f3f81c48",
   "metadata": {},
   "outputs": [],
   "source": [
    "# Type of items\n"
   ]
  },
  {
   "cell_type": "code",
   "execution_count": null,
   "id": "54fab910-8533-4e0c-995c-53ee47f67cc8",
   "metadata": {},
   "outputs": [],
   "source": [
    "# Sort the list\n"
   ]
  },
  {
   "cell_type": "code",
   "execution_count": null,
   "id": "5d22bd1c-f686-4c33-a658-088f4f6c769e",
   "metadata": {},
   "outputs": [],
   "source": [
    "# Get the first element in the list\n"
   ]
  },
  {
   "cell_type": "code",
   "execution_count": null,
   "id": "65c557c7-1f24-499e-b19c-220d97a6add6",
   "metadata": {},
   "outputs": [],
   "source": [
    "# Type of the first element\n"
   ]
  },
  {
   "cell_type": "code",
   "execution_count": null,
   "id": "64e90e79-7bc7-460d-a60b-8739b5b47b02",
   "metadata": {},
   "outputs": [],
   "source": [
    "# Append an item to the list\n"
   ]
  },
  {
   "cell_type": "code",
   "execution_count": null,
   "id": "27f90761-3fb9-4feb-b2c6-65489ce2b049",
   "metadata": {},
   "outputs": [],
   "source": [
    "# Length of items\n"
   ]
  },
  {
   "cell_type": "markdown",
   "id": "aeed5ad4-5c65-41a3-b975-ef33e135010f",
   "metadata": {},
   "source": [
    "## Variables: tuples"
   ]
  },
  {
   "cell_type": "code",
   "execution_count": null,
   "id": "a6471b98-d489-48a4-8c4a-6eace8e8dcce",
   "metadata": {},
   "outputs": [],
   "source": [
    "# Tuple\n"
   ]
  },
  {
   "cell_type": "code",
   "execution_count": null,
   "id": "8c15259a-4930-4f3f-a796-0c6faadadae0",
   "metadata": {},
   "outputs": [],
   "source": [
    "# Type of items\n"
   ]
  },
  {
   "cell_type": "code",
   "execution_count": null,
   "id": "fd982a3f-42f0-4d7d-b8f1-074092256de0",
   "metadata": {},
   "outputs": [],
   "source": [
    "# Get the first element in the tuple\n"
   ]
  },
  {
   "cell_type": "code",
   "execution_count": null,
   "id": "60e73cda-daf9-4dc1-81a7-ba50107bf319",
   "metadata": {},
   "outputs": [],
   "source": [
    "# Append an item to the list\n"
   ]
  },
  {
   "cell_type": "markdown",
   "id": "8587b968-b857-42be-bf27-862879a0223e",
   "metadata": {},
   "source": [
    "## Variables: sets"
   ]
  },
  {
   "cell_type": "code",
   "execution_count": null,
   "id": "8e0e0bba-53a0-4147-9ba5-7ca51fc2d8ec",
   "metadata": {},
   "outputs": [],
   "source": [
    "# Set\n"
   ]
  },
  {
   "cell_type": "code",
   "execution_count": null,
   "id": "24d4b0f7-40a5-4322-944b-351214a6eb4d",
   "metadata": {},
   "outputs": [],
   "source": [
    "# Type of set1\n"
   ]
  },
  {
   "cell_type": "code",
   "execution_count": null,
   "id": "5e39dd1b-f681-43d0-b874-a0bd4209db90",
   "metadata": {},
   "outputs": [],
   "source": [
    "# Check for item in set\n"
   ]
  },
  {
   "cell_type": "code",
   "execution_count": null,
   "id": "91a19680-1351-4810-82cd-8cdae82aea73",
   "metadata": {},
   "outputs": [],
   "source": [
    "# Get the union of two sets\n"
   ]
  },
  {
   "cell_type": "code",
   "execution_count": null,
   "id": "8adc1ca7-c1d4-4c6b-8b33-eacf170affdf",
   "metadata": {},
   "outputs": [],
   "source": [
    "# Get the intersection of two sets\n"
   ]
  },
  {
   "cell_type": "markdown",
   "id": "12a312df-910b-4508-8488-21a9f1c11d2a",
   "metadata": {},
   "source": [
    "## Variables: dictionaries"
   ]
  },
  {
   "cell_type": "code",
   "execution_count": null,
   "id": "eaf18164-e8ed-4225-a9f1-e355724a08da",
   "metadata": {},
   "outputs": [],
   "source": [
    "# Dictionary\n"
   ]
  },
  {
   "cell_type": "code",
   "execution_count": null,
   "id": "bbeebc1f-2901-492b-a81c-d6cd0e880d0f",
   "metadata": {},
   "outputs": [],
   "source": [
    "# Type of species\n"
   ]
  },
  {
   "cell_type": "code",
   "execution_count": null,
   "id": "c195da99-11b0-43fe-ab8d-a728343ea9a3",
   "metadata": {},
   "outputs": [],
   "source": [
    "# Look up the species in the genus Zea\n"
   ]
  },
  {
   "cell_type": "code",
   "execution_count": null,
   "id": "91b5ee13-baee-4f90-a8d2-870490a54894",
   "metadata": {},
   "outputs": [],
   "source": [
    "# If the genus Oryza is not in species, add it\n"
   ]
  },
  {
   "cell_type": "code",
   "execution_count": null,
   "id": "a257d9de-4709-43ae-bee3-f4733a27015c",
   "metadata": {},
   "outputs": [],
   "source": []
  }
 ],
 "metadata": {
  "kernelspec": {
   "display_name": "Python [conda env:datasci] *",
   "language": "python",
   "name": "conda-env-datasci-py"
  },
  "language_info": {
   "codemirror_mode": {
    "name": "ipython",
    "version": 3
   },
   "file_extension": ".py",
   "mimetype": "text/x-python",
   "name": "python",
   "nbconvert_exporter": "python",
   "pygments_lexer": "ipython3",
   "version": "3.10.2"
  }
 },
 "nbformat": 4,
 "nbformat_minor": 5
}
